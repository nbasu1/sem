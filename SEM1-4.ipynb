{
 "cells": [
  {
   "cell_type": "code",
   "execution_count": 217,
   "id": "4d888635",
   "metadata": {},
   "outputs": [],
   "source": [
    "import csv\n",
    "import escher\n",
    "from escher import Builder\n",
    "import pandas\n",
    "from time import time, sleep\n",
    "\n",
    "import cobra\n",
    "from cobra.io import load_model, to_json, save_json_model\n",
    "from cobra import Model, Reaction, Metabolite\n",
    "from cobra.manipulation import delete_model_genes, knock_out_model_genes, remove_genes\n",
    "\n",
    "model = load_model(\"iJN1463\")\n",
    "\n",
    "# The genes to be deleted one at a time\n",
    "genes_to_delete = [\"phaA\",\"phaB\",\"phaC2\",\"benA\",\"benB\",\"benC\",\"benD\",\"phaG\"]\n",
    "gene_ids = ['PP_5003', 'PP_5004', 'PP_5005', 'PP_3161','PP_3162','PP_3163', 'PP_3164', 'PP_1408']\n",
    "\n",
    "# Single deletion of each gene in my gene list\n",
    "gene_list = gene_ids\n",
    "\n",
    "remove_genes(model, gene_list)\n"
   ]
  },
  {
   "cell_type": "code",
   "execution_count": 218,
   "id": "003ae5a6",
   "metadata": {},
   "outputs": [],
   "source": [
    "# print(model.reactions)\n",
    "\n",
    "# model.genes.get_by_id(\"PP_5003\")"
   ]
  },
  {
   "cell_type": "code",
   "execution_count": null,
   "id": "c9cc7a3a",
   "metadata": {},
   "outputs": [],
   "source": []
  },
  {
   "cell_type": "code",
   "execution_count": 220,
   "id": "b1d0b81b",
   "metadata": {},
   "outputs": [
    {
     "name": "stderr",
     "output_type": "stream",
     "text": [
      "Ignoring reaction 'phaA' since it already exists.\n",
      "Ignoring reaction 'phaB' since it already exists.\n",
      "Ignoring reaction 'PHAP2C4' since it already exists.\n"
     ]
    },
    {
     "data": {
      "text/html": [
       "<strong><em>Optimal</em> solution with objective value 1.852</strong><br><div>\n",
       "<style scoped>\n",
       "    .dataframe tbody tr th:only-of-type {\n",
       "        vertical-align: middle;\n",
       "    }\n",
       "\n",
       "    .dataframe tbody tr th {\n",
       "        vertical-align: top;\n",
       "    }\n",
       "\n",
       "    .dataframe thead th {\n",
       "        text-align: right;\n",
       "    }\n",
       "</style>\n",
       "<table border=\"1\" class=\"dataframe\">\n",
       "  <thead>\n",
       "    <tr style=\"text-align: right;\">\n",
       "      <th></th>\n",
       "      <th>fluxes</th>\n",
       "      <th>reduced_costs</th>\n",
       "    </tr>\n",
       "  </thead>\n",
       "  <tbody>\n",
       "    <tr>\n",
       "      <th>3HAD160</th>\n",
       "      <td>0.00000</td>\n",
       "      <td>0.000000e+00</td>\n",
       "    </tr>\n",
       "    <tr>\n",
       "      <th>13DAMPPabcpp</th>\n",
       "      <td>0.00000</td>\n",
       "      <td>5.551115e-17</td>\n",
       "    </tr>\n",
       "    <tr>\n",
       "      <th>13DAMPPtex</th>\n",
       "      <td>0.00000</td>\n",
       "      <td>0.000000e+00</td>\n",
       "    </tr>\n",
       "    <tr>\n",
       "      <th>15DAPabcpp</th>\n",
       "      <td>0.00000</td>\n",
       "      <td>0.000000e+00</td>\n",
       "    </tr>\n",
       "    <tr>\n",
       "      <th>1P2CBXLCYCL</th>\n",
       "      <td>0.00000</td>\n",
       "      <td>-9.230066e-17</td>\n",
       "    </tr>\n",
       "    <tr>\n",
       "      <th>...</th>\n",
       "      <td>...</td>\n",
       "      <td>...</td>\n",
       "    </tr>\n",
       "    <tr>\n",
       "      <th>4MCAT23DOX</th>\n",
       "      <td>0.00000</td>\n",
       "      <td>-9.454243e-17</td>\n",
       "    </tr>\n",
       "    <tr>\n",
       "      <th>4OD</th>\n",
       "      <td>0.00000</td>\n",
       "      <td>-1.275022e-16</td>\n",
       "    </tr>\n",
       "    <tr>\n",
       "      <th>phaA</th>\n",
       "      <td>0.00000</td>\n",
       "      <td>2.303884e-16</td>\n",
       "    </tr>\n",
       "    <tr>\n",
       "      <th>phaB</th>\n",
       "      <td>3.70406</td>\n",
       "      <td>0.000000e+00</td>\n",
       "    </tr>\n",
       "    <tr>\n",
       "      <th>PHAP2C4</th>\n",
       "      <td>1.85203</td>\n",
       "      <td>0.000000e+00</td>\n",
       "    </tr>\n",
       "  </tbody>\n",
       "</table>\n",
       "<p>2875 rows × 2 columns</p>\n",
       "</div>"
      ],
      "text/plain": [
       "<Solution 1.852 at 0x7f88499a8a30>"
      ]
     },
     "execution_count": 220,
     "metadata": {},
     "output_type": "execute_result"
    }
   ],
   "source": [
    "medium = model.medium\n",
    "# medium[\"EX_nh4_e\"] = 4.5\n",
    "medium[\"EX_ac_e\"] = 10.0\n",
    "medium[\"EX_glc__D_e\"] = 0.0\n",
    "model.medium = medium\n",
    "\n",
    "# model.medium\n",
    "\n",
    "# model.optimize()\n",
    "\n",
    "phaA_reaction = Reaction(\"phaA\")\n",
    "phaA_reaction.name = 'acetyl-coa to acetoacetyl-coa'\n",
    "phaA_reaction.subsystem = 'PHB Production'\n",
    "\n",
    "phaA_reaction.add_metabolites({\n",
    "    model.metabolites.get_by_id(\"accoa_c\"): -2.0,\n",
    "    model.metabolites.get_by_id(\"coa_c\"): 1.0,\n",
    "    model.metabolites.get_by_id(\"aacoa_c\"): 1.0\n",
    "})\n",
    "\n",
    "# phaA_reaction.reaction\n",
    "\n",
    "phaB_reaction = Reaction(\"phaB\")\n",
    "phaB_reaction.name = 'acetoacetyl-coa to 3-hydroxybutanoyl-coa'\n",
    "phaB_reaction.subsystem = 'PHB Production'\n",
    "\n",
    "phaB_reaction.add_metabolites({\n",
    "    model.metabolites.get_by_id(\"nadph_c\"): -1.0,\n",
    "    model.metabolites.get_by_id(\"aacoa_c\"): -1.0,\n",
    "    model.metabolites.get_by_id(\"nadp_c\"): 1.0,\n",
    "    model.metabolites.get_by_id(\"3hbcoa_c\"): 1.0\n",
    "})\n",
    "\n",
    "phaC_reaction = Reaction(\"PHAP2C4\")\n",
    "phaC_reaction.name = '3-hydroxybutanoyl-coa to PHB'\n",
    "phaC_reaction.subsystem = 'PHB Production'\n",
    "\n",
    "phaC_reaction.add_metabolites({\n",
    "    model.metabolites.get_by_id(\"3hbcoa_c\"): -1.0,\n",
    "    model.metabolites.get_by_id(\"bhb_c\"): -1.0,\n",
    "    model.metabolites.get_by_id(\"PHAg_c\"): 1.0,\n",
    "    model.metabolites.get_by_id(\"coa_c\"): 1.0\n",
    "})\n",
    "\n",
    "\n",
    "# print(phaC_reaction.reaction)\n",
    "\n",
    "model.add_reactions([phaA_reaction, phaB_reaction, phaC_reaction])\n",
    "# model.add_reactions([phaA_reaction, phaB_reaction])\n",
    "\n",
    "model.objective = \"PHAP2C4\"\n",
    "# model.objective = \"phaB\"\n",
    "# model.objective = \"BIOMASS_KT2440_WT3\"\n",
    "\n",
    "# biomass_rxn = model.reactions.get_by_id(\"BIOMASS_KT2440_WT3\")\n",
    "\n",
    "solution = model.optimize()\n",
    "\n",
    "field_names = ['No', 'Reaction ID', 'Flux Value']\n",
    "\n",
    "solution.fluxes.to_csv(\"/Users/neha/Desktop/mit/misti/data/fba/flux_values.csv\")\n",
    "\n",
    "model.optimize()\n"
   ]
  },
  {
   "cell_type": "code",
   "execution_count": 158,
   "id": "dd5883d1",
   "metadata": {},
   "outputs": [],
   "source": [
    "# model.metabolites.accoa_c.summary()"
   ]
  },
  {
   "cell_type": "code",
   "execution_count": 159,
   "id": "02b9df91",
   "metadata": {},
   "outputs": [],
   "source": [
    "# model.genes.get_by_id(\"PP_5005\")"
   ]
  },
  {
   "cell_type": "code",
   "execution_count": 161,
   "id": "2bda9b5d",
   "metadata": {},
   "outputs": [],
   "source": [
    "# from cobra.medium import minimal_medium\n",
    "\n",
    "# max_growth = model.slim_optimize()\n",
    "# minimal_medium(model, max_growth)"
   ]
  },
  {
   "cell_type": "code",
   "execution_count": null,
   "id": "571c16a2",
   "metadata": {},
   "outputs": [],
   "source": []
  },
  {
   "cell_type": "code",
   "execution_count": 171,
   "id": "2cd026c1",
   "metadata": {},
   "outputs": [
    {
     "data": {
      "application/vnd.jupyter.widget-view+json": {
       "model_id": "ebfe77cbc0974098aae34bb167138213",
       "version_major": 2,
       "version_minor": 0
      },
      "text/plain": [
       "Builder()"
      ]
     },
     "metadata": {},
     "output_type": "display_data"
    }
   ],
   "source": [
    "edited_model = cobra.io.to_json(model)\n",
    "\n",
    "builder = Builder(\n",
    "    model_json = edited_model\n",
    ")\n",
    "\n",
    "# builder = Builder()\n",
    "\n",
    "builder "
   ]
  },
  {
   "cell_type": "code",
   "execution_count": null,
   "id": "d5d5acd3",
   "metadata": {},
   "outputs": [],
   "source": []
  },
  {
   "cell_type": "code",
   "execution_count": 204,
   "id": "c6295fe3",
   "metadata": {},
   "outputs": [
    {
     "data": {
      "application/vnd.jupyter.widget-view+json": {
       "model_id": "3d993425df2443f7bd62f5b4bbd79432",
       "version_major": 2,
       "version_minor": 0
      },
      "text/plain": [
       "Builder()"
      ]
     },
     "metadata": {},
     "output_type": "display_data"
    }
   ],
   "source": [
    "cobra.io.save_json_model(model, \"/Users/neha/Desktop/mit/misti/data/fba/test.json\")\n",
    "\n",
    "builder = Builder()\n",
    "\n",
    "builder "
   ]
  },
  {
   "cell_type": "code",
   "execution_count": null,
   "id": "51a812f1",
   "metadata": {},
   "outputs": [],
   "source": []
  }
 ],
 "metadata": {
  "kernelspec": {
   "display_name": "Python 3 (ipykernel)",
   "language": "python",
   "name": "python3"
  },
  "language_info": {
   "codemirror_mode": {
    "name": "ipython",
    "version": 3
   },
   "file_extension": ".py",
   "mimetype": "text/x-python",
   "name": "python",
   "nbconvert_exporter": "python",
   "pygments_lexer": "ipython3",
   "version": "3.8.8"
  }
 },
 "nbformat": 4,
 "nbformat_minor": 5
}
