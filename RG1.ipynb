{
 "cells": [
  {
   "cell_type": "code",
   "execution_count": 15,
   "id": "747e533b",
   "metadata": {},
   "outputs": [
    {
     "data": {
      "text/html": [
       "\n",
       "        <table>\n",
       "            <tr>\n",
       "                <td><strong>Name</strong></td>\n",
       "                <td>iJN1463</td>\n",
       "            </tr><tr>\n",
       "                <td><strong>Memory address</strong></td>\n",
       "                <td>7fdd3150eb50</td>\n",
       "            </tr><tr>\n",
       "                <td><strong>Number of metabolites</strong></td>\n",
       "                <td>2153</td>\n",
       "            </tr><tr>\n",
       "                <td><strong>Number of reactions</strong></td>\n",
       "                <td>2874</td>\n",
       "            </tr><tr>\n",
       "                <td><strong>Number of genes</strong></td>\n",
       "                <td>1455</td>\n",
       "            </tr><tr>\n",
       "                <td><strong>Number of groups</strong></td>\n",
       "                <td>0</td>\n",
       "            </tr><tr>\n",
       "                <td><strong>Objective expression</strong></td>\n",
       "                <td>1.0*BIOMASS_KT2440_WT3 - 1.0*BIOMASS_KT2440_WT3_reverse_d86d5</td>\n",
       "            </tr><tr>\n",
       "                <td><strong>Compartments</strong></td>\n",
       "                <td>cytosol, extracellular space, periplasm</td>\n",
       "            </tr>\n",
       "          </table>"
      ],
      "text/plain": [
       "<Model iJN1463 at 0x7fdd3150eb50>"
      ]
     },
     "execution_count": 15,
     "metadata": {},
     "output_type": "execute_result"
    }
   ],
   "source": [
    "import pandas\n",
    "from time import time\n",
    "\n",
    "import cobra\n",
    "from cobra.io import load_model\n",
    "from cobra import Model, Reaction, Metabolite\n",
    "from cobra.manipulation import delete_model_genes, knock_out_model_genes, remove_genes\n",
    "\n",
    "model = load_model(\"iJN1463\")\n",
    "\n",
    "# The genes to be deleted one at a time\n",
    "# genes_to_delete = [\"thiO\", \"ltaE\", \"serA\", \"aceA\", \"gcvR\", \"pha_cluster\"]\n",
    "# gene_ids = [\"PP_0612\", \"PP_0321\", \"PP_5155\", \"PP_4116\", \"PP_0997\", \"PP_5002\", \"PP_5003\", \"PP_5004\", \"PP_5005\", \"PP_5006\", \"PP_5007\", \"PP_5008\"]\n",
    "genes_to_delete = [\"thiO\", \"ltaE\", \"serA\", \"aceA\", \"phaA\",\"phaB\",\"phaC2\"]\n",
    "gene_ids = [\"PP_0612\", \"PP_0321\", \"PP_5155\", \"PP_4116\", \"PP_5003\", \"PP_5004\", \"PP_5005\"]\n",
    "\n",
    "# Single deletion of each gene in my gene list\n",
    "gene_list = gene_ids\n",
    "\n",
    "remove_genes(model, gene_list)\n",
    "\n",
    "model"
   ]
  },
  {
   "cell_type": "code",
   "execution_count": 11,
   "id": "bc884047",
   "metadata": {},
   "outputs": [
    {
     "data": {
      "text/plain": [
       "'atp_c + for_c + thf_c --> 10fthf_c + adp_c + pi_c'"
      ]
     },
     "execution_count": 11,
     "metadata": {},
     "output_type": "execute_result"
    }
   ],
   "source": [
    "# adding ftfL, fch, and mtdA genes from M. extorquens AM1 to model\n",
    "\n",
    "ftfL_reaction = Reaction(\"R00943\")\n",
    "ftfL_reaction.name = \"Formate-tetrahydrofolate ligase\"\n",
    "ftfL_reaction.subsystem = \"one-carbon metabolism\"\n",
    "\n",
    "ftfL_reaction.add_metabolites({\n",
    "    model.metabolites.get_by_id(\"atp_c\"): -1.0,\n",
    "    model.metabolites.get_by_id(\"for_c\"): -1.0,\n",
    "    model.metabolites.get_by_id(\"thf_c\"): -1.0,\n",
    "    model.metabolites.get_by_id(\"10fthf_c\"): 1.0,\n",
    "    model.metabolites.get_by_id(\"adp_c\"): 1.0,\n",
    "    model.metabolites.get_by_id(\"pi_c\"): 1.0\n",
    "})\n",
    "\n",
    "# ftfL_reaction.reaction\n",
    "\n"
   ]
  },
  {
   "cell_type": "code",
   "execution_count": null,
   "id": "c32b92fa",
   "metadata": {},
   "outputs": [],
   "source": []
  }
 ],
 "metadata": {
  "kernelspec": {
   "display_name": "Python 3 (ipykernel)",
   "language": "python",
   "name": "python3"
  },
  "language_info": {
   "codemirror_mode": {
    "name": "ipython",
    "version": 3
   },
   "file_extension": ".py",
   "mimetype": "text/x-python",
   "name": "python",
   "nbconvert_exporter": "python",
   "pygments_lexer": "ipython3",
   "version": "3.8.8"
  }
 },
 "nbformat": 4,
 "nbformat_minor": 5
}
