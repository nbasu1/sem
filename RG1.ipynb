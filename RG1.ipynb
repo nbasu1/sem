{
 "cells": [
  {
   "cell_type": "code",
   "execution_count": 16,
   "id": "747e533b",
   "metadata": {},
   "outputs": [],
   "source": [
    "import escher\n",
    "from escher import Builder\n",
    "import pandas\n",
    "from time import time, sleep\n",
    "\n",
    "import cobra\n",
    "from cobra.medium import minimal_medium\n",
    "from cobra.io import load_model\n",
    "from cobra import Model, Reaction, Metabolite\n",
    "from cobra.manipulation import delete_model_genes, knock_out_model_genes, remove_genes\n",
    "\n",
    "model = load_model(\"iJN1463\")\n",
    "\n",
    "# The genes to be deleted one at a time\n",
    "# genes_to_delete = [\"thiO\", \"ltaE\", \"serA\", \"aceA\", \"gcvR\", \"pha_cluster\"]\n",
    "# gene_ids = [\"PP_0612\", \"PP_0321\", \"PP_5155\", \"PP_4116\", \"PP_0997\", \"PP_5002\", \"PP_5003\", \"PP_5004\", \"PP_5005\", \"PP_5006\", \"PP_5007\", \"PP_5008\"]\n",
    "genes_to_delete = [\"thiO\", \"ltaE\", \"serA\", \"aceA\", \"phaA\",\"phaB\",\"phaC2\"]\n",
    "gene_ids = [\"PP_0612\", \"PP_0321\", \"PP_5155\", \"PP_4116\", \"PP_5003\", \"PP_5004\", \"PP_5005\"]\n",
    "\n",
    "# Single deletion of each gene in my gene list\n",
    "gene_list = gene_ids\n",
    "\n",
    "remove_genes(model, gene_list)"
   ]
  },
  {
   "cell_type": "code",
   "execution_count": 21,
   "id": "23a7cc4f",
   "metadata": {},
   "outputs": [
    {
     "name": "stderr",
     "output_type": "stream",
     "text": [
      "Ignoring reaction 'R00943' since it already exists.\n",
      "Ignoring reaction 'R01655' since it already exists.\n",
      "Ignoring reaction 'R01220' since it already exists.\n"
     ]
    },
    {
     "data": {
      "text/html": [
       "<strong><em>Optimal</em> solution with objective value 0.000</strong><br><div>\n",
       "<style scoped>\n",
       "    .dataframe tbody tr th:only-of-type {\n",
       "        vertical-align: middle;\n",
       "    }\n",
       "\n",
       "    .dataframe tbody tr th {\n",
       "        vertical-align: top;\n",
       "    }\n",
       "\n",
       "    .dataframe thead th {\n",
       "        text-align: right;\n",
       "    }\n",
       "</style>\n",
       "<table border=\"1\" class=\"dataframe\">\n",
       "  <thead>\n",
       "    <tr style=\"text-align: right;\">\n",
       "      <th></th>\n",
       "      <th>fluxes</th>\n",
       "      <th>reduced_costs</th>\n",
       "    </tr>\n",
       "  </thead>\n",
       "  <tbody>\n",
       "    <tr>\n",
       "      <th>3HAD160</th>\n",
       "      <td>0.000000e+00</td>\n",
       "      <td>0.000000e+00</td>\n",
       "    </tr>\n",
       "    <tr>\n",
       "      <th>13DAMPPabcpp</th>\n",
       "      <td>0.000000e+00</td>\n",
       "      <td>7.185359e-16</td>\n",
       "    </tr>\n",
       "    <tr>\n",
       "      <th>13DAMPPtex</th>\n",
       "      <td>0.000000e+00</td>\n",
       "      <td>0.000000e+00</td>\n",
       "    </tr>\n",
       "    <tr>\n",
       "      <th>15DAPabcpp</th>\n",
       "      <td>0.000000e+00</td>\n",
       "      <td>1.238257e-15</td>\n",
       "    </tr>\n",
       "    <tr>\n",
       "      <th>1P2CBXLCYCL</th>\n",
       "      <td>0.000000e+00</td>\n",
       "      <td>-0.000000e+00</td>\n",
       "    </tr>\n",
       "    <tr>\n",
       "      <th>...</th>\n",
       "      <td>...</td>\n",
       "      <td>...</td>\n",
       "    </tr>\n",
       "    <tr>\n",
       "      <th>4MCAT23DOX</th>\n",
       "      <td>0.000000e+00</td>\n",
       "      <td>-1.110223e-16</td>\n",
       "    </tr>\n",
       "    <tr>\n",
       "      <th>4OD</th>\n",
       "      <td>0.000000e+00</td>\n",
       "      <td>0.000000e+00</td>\n",
       "    </tr>\n",
       "    <tr>\n",
       "      <th>R00943</th>\n",
       "      <td>-6.071820e-19</td>\n",
       "      <td>-3.330669e-15</td>\n",
       "    </tr>\n",
       "    <tr>\n",
       "      <th>R01655</th>\n",
       "      <td>0.000000e+00</td>\n",
       "      <td>0.000000e+00</td>\n",
       "    </tr>\n",
       "    <tr>\n",
       "      <th>R01220</th>\n",
       "      <td>0.000000e+00</td>\n",
       "      <td>1.846958e-14</td>\n",
       "    </tr>\n",
       "  </tbody>\n",
       "</table>\n",
       "<p>2877 rows × 2 columns</p>\n",
       "</div>"
      ],
      "text/plain": [
       "<Solution 0.000 at 0x7f8a4e603790>"
      ]
     },
     "execution_count": 21,
     "metadata": {},
     "output_type": "execute_result"
    }
   ],
   "source": [
    "medium = model.medium\n",
    "# medium[\"EX_nh4_e\"] = 4.5\n",
    "# medium[\"EX_for_e\"] = 16.6\n",
    "# medium[\"EX_ac_e\"] = 100.1\n",
    "medium[\"EX_glc__D_e\"] = 100.0\n",
    "# medium[\"EX_co2_e\"] = 10.0\n",
    "medium[\"EX_gly_e\"] = 10.0\n",
    "medium[\"EX_ser__L_e\"] = 10.0\n",
    "model.medium = medium\n",
    "\n",
    "model.medium\n",
    "\n",
    "# model.optimize()\n",
    "\n",
    "\n",
    "# Module 1: C1 Attachment to THF\n",
    "# adding ftfL, fch, and mtdA genes from M. extorquens AM1 to model\n",
    "\n",
    "ftfL_reaction = Reaction(\"R00943\")\n",
    "ftfL_reaction.name = \"Formate-tetrahydrofolate ligase\"\n",
    "ftfL_reaction.subsystem = \"one-carbon metabolism\"\n",
    "ftfL_reaction.lower_bound = 0.  # to make reversible\n",
    "\n",
    "ftfL_reaction.add_metabolites({\n",
    "    model.metabolites.get_by_id(\"atp_c\"): -1.0,\n",
    "    model.metabolites.get_by_id(\"for_c\"): -1.0,\n",
    "    model.metabolites.get_by_id(\"thf_c\"): -1.0,\n",
    "    model.metabolites.get_by_id(\"10fthf_c\"): 1.0,\n",
    "    model.metabolites.get_by_id(\"adp_c\"): 1.0,\n",
    "    model.metabolites.get_by_id(\"pi_c\"): 1.0\n",
    "})\n",
    "\n",
    "# ftfL_reaction.reaction\n",
    "\n",
    "# model.reactions.get_by_id(\"R00943\")\n",
    "\n",
    "fch_reaction = Reaction(\"R01655\")\n",
    "fch_reaction.name = \"Methenyltetrahydrofolate cyclohydrolase\"\n",
    "fch_reaction.subsystem = \"one-carbon metabolism\"\n",
    "fch_reaction.lower_bound = 0.  # to make reversible\n",
    "\n",
    "fch_reaction.add_metabolites({\n",
    "    model.metabolites.get_by_id(\"10fthf_c\"): -1.0,\n",
    "    model.metabolites.get_by_id(\"h_c\"): -1.0,\n",
    "    model.metabolites.get_by_id(\"h2o_c\"): 1.0,\n",
    "    model.metabolites.get_by_id(\"methf_c\"): 1.0\n",
    "})\n",
    "\n",
    "# fch_reaction.reaction\n",
    "\n",
    "mtdA_reaction = Reaction(\"R01220\")\n",
    "mtdA_reaction.name = \"5,10-methylenetetrahydrofolate:NADP+ oxidoreductase\"\n",
    "mtdA_reaction.subsystem = \"one-carbon metabolism\"\n",
    "mtdA_reaction.lower_bound = 0.  # to make reversible\n",
    "\n",
    "mtdA_reaction.add_metabolites({\n",
    "    model.metabolites.get_by_id(\"methf_c\"): -1.0,\n",
    "    model.metabolites.get_by_id(\"nadph_c\"): -1.0,\n",
    "    model.metabolites.get_by_id(\"mlthf_c\"): 1.0,\n",
    "    model.metabolites.get_by_id(\"nadp_c\"): 1.0\n",
    "})\n",
    "\n",
    "model.add_reactions([ftfL_reaction, fch_reaction, mtdA_reaction])\n",
    "\n",
    "# Module 2: Glycine Generation\n",
    "# switching substrate and product for glycine cleavage system\n",
    "\n",
    "glycine_cleavage_reaction = model.reactions.get_by_id(\"GLYCL\")\n",
    "glycine_cleavage_reaction.lower_bound = -1000.\n",
    "glycine_cleavage_reaction.upper_bound = 0.\n",
    "\n",
    "model.reactions.get_by_id(\"GLYCL\")\n",
    "\n",
    "\n",
    "# Module 3: Pyruvate Synthesis\n",
    "glyA_reaction = model.reactions.get_by_id(\"GHMT2r\")\n",
    "glyA_reaction.lower_bound = -1000.\n",
    "glyA_reaction.upper_bound = 0.\n",
    "\n",
    "# tdc_reaction = model.reactions.get_by_id(\"SERD_L\")\n",
    "\n",
    "\n",
    "model.optimize()"
   ]
  },
  {
   "cell_type": "code",
   "execution_count": 18,
   "id": "985bfca9",
   "metadata": {},
   "outputs": [],
   "source": [
    "# # max_growth = model.slim_optimize()\n",
    "# # minimal_medium(model, min_objective_value=0.5, exports=False, minimize_components=False, open_exchanges=True)\n",
    "# model.medium = minimal_medium(model, min_objective_value=0.5, exports=False, minimize_components=False, open_exchanges=True)\n",
    "\n",
    "# model.optimize()"
   ]
  },
  {
   "cell_type": "code",
   "execution_count": 19,
   "id": "761e4d43",
   "metadata": {},
   "outputs": [],
   "source": [
    "# model.medium"
   ]
  },
  {
   "cell_type": "code",
   "execution_count": 171,
   "id": "15072920",
   "metadata": {},
   "outputs": [
    {
     "data": {
      "text/html": [
       "\n",
       "        <table>\n",
       "            <tr>\n",
       "                <td><strong>Reaction identifier</strong></td><td>SERD_L</td>\n",
       "            </tr><tr>\n",
       "                <td><strong>Name</strong></td><td>L-serine deaminase</td>\n",
       "            </tr><tr>\n",
       "                <td><strong>Memory address</strong></td>\n",
       "                <td>0x7fd036685e50</td>\n",
       "            </tr><tr>\n",
       "                <td><strong>Stoichiometry</strong></td>\n",
       "                <td>\n",
       "                    <p style='text-align:right'>ser__L_c --> nh4_c + pyr_c</p>\n",
       "                    <p style='text-align:right'>L-Serine --> Ammonium + Pyruvate</p>\n",
       "                </td>\n",
       "            </tr><tr>\n",
       "                <td><strong>GPR</strong></td><td>PP_3144 or PP_0297 or PP_0987</td>\n",
       "            </tr><tr>\n",
       "                <td><strong>Lower bound</strong></td><td>0.0</td>\n",
       "            </tr><tr>\n",
       "                <td><strong>Upper bound</strong></td><td>999999.0</td>\n",
       "            </tr>\n",
       "        </table>\n",
       "        "
      ],
      "text/plain": [
       "<Reaction SERD_L at 0x7fd036685e50>"
      ]
     },
     "execution_count": 171,
     "metadata": {},
     "output_type": "execute_result"
    }
   ],
   "source": [
    "# model.reactions.get_by_id(\"GLYCL\")\n",
    "# model.reactions.get_by_id(\"GHMT2r\")\n",
    "# model.reactions.get_by_id(\"SERD_L\")"
   ]
  },
  {
   "cell_type": "code",
   "execution_count": 20,
   "id": "e936b63d",
   "metadata": {},
   "outputs": [
    {
     "data": {
      "application/vnd.jupyter.widget-view+json": {
       "model_id": "2cdfd07a1f7d459dbbe3d636af0938c0",
       "version_major": 2,
       "version_minor": 0
      },
      "text/plain": [
       "Builder(hide_all_labels=False, hide_secondary_metabolites=True, metabolite_data={'10fthf_c': -0.0, '12dgr120_c…"
      ]
     },
     "metadata": {},
     "output_type": "display_data"
    }
   ],
   "source": [
    "builder = Builder()\n",
    "\n",
    "builder.model = model\n",
    "\n",
    "# Run FBA with the model and add the flux data to the map\n",
    "solution = builder.model.optimize()\n",
    "builder.reaction_data = solution.fluxes\n",
    "\n",
    "# Add some data for metabolites\n",
    "builder.metabolite_data = solution.shadow_prices\n",
    "\n",
    "# Simplify the map by hiding some labels\n",
    "builder.hide_secondary_metabolites = True\n",
    "builder.hide_all_labels = False\n",
    "\n",
    "builder.reaction_scale = [\n",
    "    { 'type': 'min', 'color': '#000000', 'size': 12 },\n",
    "    { 'type': 'median', 'color': '#ffffff', 'size': 20 },\n",
    "    { 'type': 'max', 'color': '#ff0000', 'size': 25 }\n",
    "]\n",
    "\n",
    "builder.reaction_scale_preset = 'GaBuRd'\n",
    "\n",
    "# Make all the arrows three times as thick\n",
    "builder.reaction_scale = [\n",
    "    {k: v * 3 if k == 'size' else v for k, v in x.items()}\n",
    "    for x in builder.reaction_scale\n",
    "]\n",
    "\n",
    "builder"
   ]
  },
  {
   "cell_type": "code",
   "execution_count": 14,
   "id": "d93037d1",
   "metadata": {},
   "outputs": [
    {
     "data": {
      "text/html": [
       "\n",
       "        <table>\n",
       "            <tr>\n",
       "                <td><strong>Metabolite identifier</strong></td><td>gly_c</td>\n",
       "            </tr><tr>\n",
       "                <td><strong>Name</strong></td><td>Glycine</td>\n",
       "            </tr><tr>\n",
       "                <td><strong>Memory address</strong></td>\n",
       "                <td>0x7f8a4c57c400</td>\n",
       "            </tr><tr>\n",
       "                <td><strong>Formula</strong></td><td>C2H5NO2</td>\n",
       "            </tr><tr>\n",
       "                <td><strong>Compartment</strong></td><td>c</td>\n",
       "            </tr><tr>\n",
       "                <td><strong>In 25 reaction(s)</strong></td><td>\n",
       "                    DALAGLYD, GLYPHEHYc, GLYt2pp, BIOMASS_KT2440_Core2, PPRGL, GLYGLYCNc, SARCOX2, GLYCL, AMPTASECG, ALDD31, AMPTASEPG, AMPTASEGM, GTHS, GHMT2r, GLYTRS, AMPTASEGGLU, GLYt4pp, AMPTASEGGLN, SARCOX,...\n",
       "                    </td>\n",
       "            </tr>\n",
       "        </table>"
      ],
      "text/plain": [
       "<Metabolite gly_c at 0x7f8a4c57c400>"
      ]
     },
     "execution_count": 14,
     "metadata": {},
     "output_type": "execute_result"
    }
   ],
   "source": [
    "model.metabolites.get_by_id(\"gly_c\")"
   ]
  },
  {
   "cell_type": "code",
   "execution_count": null,
   "id": "56838154",
   "metadata": {},
   "outputs": [],
   "source": []
  }
 ],
 "metadata": {
  "kernelspec": {
   "display_name": "Python 3 (ipykernel)",
   "language": "python",
   "name": "python3"
  },
  "language_info": {
   "codemirror_mode": {
    "name": "ipython",
    "version": 3
   },
   "file_extension": ".py",
   "mimetype": "text/x-python",
   "name": "python",
   "nbconvert_exporter": "python",
   "pygments_lexer": "ipython3",
   "version": "3.8.8"
  }
 },
 "nbformat": 4,
 "nbformat_minor": 5
}
